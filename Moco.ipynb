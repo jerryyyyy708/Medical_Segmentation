{
 "cells": [
  {
   "cell_type": "code",
   "execution_count": 1,
   "id": "fd77a183",
   "metadata": {},
   "outputs": [
    {
     "name": "stderr",
     "output_type": "stream",
     "text": [
      "c:\\Users\\jerry\\anaconda3\\envs\\PyTorch\\lib\\site-packages\\tqdm\\auto.py:22: TqdmWarning: IProgress not found. Please update jupyter and ipywidgets. See https://ipywidgets.readthedocs.io/en/stable/user_install.html\n",
      "  from .autonotebook import tqdm as notebook_tqdm\n"
     ]
    }
   ],
   "source": [
    "import torch\n",
    "import torch.nn as nn\n",
    "import torch.optim as optim\n",
    "from torch.utils.data.dataloader import DataLoader\n",
    "from torchvision.datasets import ImageFolder\n",
    "from torchvision.transforms import ToTensor\n",
    "import torchvision\n",
    "import os\n",
    "import numpy as np\n",
    "import matplotlib.pyplot as plt\n",
    "from torchvision import transforms\n",
    "import time\n",
    "from tqdm import tqdm\n",
    "from sklearn.metrics import confusion_matrix\n",
    "#from models import * #model and dataset\n",
    "from train import *\n",
    "\n",
    "if torch.cuda.is_available():  \n",
    "    torch.cuda.empty_cache()\n",
    "    device = \"cuda:0\" \n",
    "else:  \n",
    "    device = \"cpu\" "
   ]
  },
  {
   "cell_type": "code",
   "execution_count": 2,
   "id": "42188ade",
   "metadata": {},
   "outputs": [
    {
     "name": "stderr",
     "output_type": "stream",
     "text": [
      "  0%|          | 0/113 [00:02<?, ?it/s]"
     ]
    },
    {
     "name": "stdout",
     "output_type": "stream",
     "text": [
      "torch.Size([128, 65536])\n"
     ]
    },
    {
     "name": "stderr",
     "output_type": "stream",
     "text": [
      "\n"
     ]
    }
   ],
   "source": [
    "dim = 128\n",
    "K = 65536\n",
    "m = 0.999\n",
    "T = 0.07\n",
    "epoch = 100\n",
    "batch = 8\n",
    "imgpath = 'Dataset/train_images'\n",
    "\n",
    "# Initialize\n",
    "\n",
    "modelq = encoder().to(device)\n",
    "modelk = encoder().to(device)\n",
    "dataset = MocoSet(imgpath)\n",
    "loader = DataLoader(dataset,batch,shuffle=True)\n",
    "loss_function = nn.CrossEntropyLoss()\n",
    "optimizer = optim.SGD(modelq.parameters(), lr=1e-3)\n",
    "\n",
    "with torch.no_grad():\n",
    "    for q,k in zip(modelq.parameters(),modelk.parameters()):\n",
    "        k.data.copy_(q.data)\n",
    "        k.requires_grad = False\n",
    "\n",
    "kqueue = torch.randn(dim,K).to(device)\n",
    "kqueue = nn.functional.normalize(kqueue, dim=0)\n",
    "\n",
    "lossplt = []\n",
    "bestloss = 10000\n",
    "\n",
    "for i in range(epoch):\n",
    "    modelq.train()\n",
    "    total_loss=0.0\n",
    "    for inputq,inputk in tqdm(loader):\n",
    "        inputq, inputk = inputq.to(device),inputk.to(device)\n",
    "        q = modelq(inputq)\n",
    "        q = nn.functional.normalize(q, dim=1)\n",
    "        with torch.no_grad():\n",
    "            k = modelk(inputk)\n",
    "            k = nn.functional.normalize(k, dim=1)\n",
    "        l_pos = torch.einsum('nc,nc->n', [q, k]).unsqueeze(-1)\n",
    "        l_neg = torch.einsum('nc,ck->nk', [q, kqueue.clone().detach()])\n",
    "        logits = torch.cat([l_pos, l_neg], dim=1)\n",
    "        logits /= T\n",
    "        labels = torch.zeros(logits.shape[0], dtype=torch.long).cuda()\n",
    "        loss = loss_function(logits,labels)\n",
    "\n",
    "        optimizer.zero_grad()\n",
    "        loss.backward()\n",
    "        optimizer.step()\n",
    "        total_loss+=loss\n",
    "        \n",
    "        with torch.no_grad():\n",
    "            for pq,pk in zip(modelq.parameters(),modelk.parameters()):\n",
    "                pk.data = pk.data*m+pq.data*(1-m)\n",
    "        \n",
    "        kqueue = torch.cat([k.T,kqueue[:,:kqueue.size(1)-k.size(0)]],dim=1)\n",
    "    total_loss/=len(dataset)\n",
    "    if total_loss < bestloss:\n",
    "        bestloss = total_loss\n",
    "        torch.save(modelq,'encoder.pt')\n",
    "    lossplt.append(total_loss.cpu().detach().numpy())\n",
    "    print('Loss: ',total_loss.item())\n",
    "    plt.plot(lossplt,label='loss')\n",
    "    plt.legend()\n",
    "    plt.savefig('pretrainloss.png')\n",
    "    plt.close()\n"
   ]
  },
  {
   "cell_type": "code",
   "execution_count": 7,
   "id": "daaaa925",
   "metadata": {},
   "outputs": [
    {
     "name": "stdout",
     "output_type": "stream",
     "text": [
      "900\n"
     ]
    }
   ],
   "source": [
    "print(len(dataset))\n"
   ]
  }
 ],
 "metadata": {
  "kernelspec": {
   "display_name": "Python 3.6.15 ('PyTorch')",
   "language": "python",
   "name": "python3"
  },
  "language_info": {
   "codemirror_mode": {
    "name": "ipython",
    "version": 3
   },
   "file_extension": ".py",
   "mimetype": "text/x-python",
   "name": "python",
   "nbconvert_exporter": "python",
   "pygments_lexer": "ipython3",
   "version": "3.6.15"
  },
  "vscode": {
   "interpreter": {
    "hash": "c1019cbcb5fd3e3584abc1baf5be46caf015c35459855632244a5fc484a6ed7e"
   }
  }
 },
 "nbformat": 4,
 "nbformat_minor": 5
}
