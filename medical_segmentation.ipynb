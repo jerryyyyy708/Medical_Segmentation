{
 "cells": [
  {
   "cell_type": "code",
   "execution_count": 1,
   "id": "07df13b6",
   "metadata": {},
   "outputs": [
    {
     "name": "stderr",
     "output_type": "stream",
     "text": [
      "C:\\Users\\jerry\\anaconda3\\envs\\pytorch\\lib\\site-packages\\tqdm\\auto.py:22: TqdmWarning: IProgress not found. Please update jupyter and ipywidgets. See https://ipywidgets.readthedocs.io/en/stable/user_install.html\n",
      "  from .autonotebook import tqdm as notebook_tqdm\n"
     ]
    },
    {
     "name": "stdout",
     "output_type": "stream",
     "text": [
      "1.10.2\n",
      "0.11.3\n"
     ]
    }
   ],
   "source": [
    "import torch\n",
    "import torch.nn as nn\n",
    "import torch.optim as optim\n",
    "from torch.utils.data.dataloader import DataLoader\n",
    "from torchvision.datasets import ImageFolder\n",
    "from torchvision.transforms import ToTensor\n",
    "import torchvision\n",
    "import os\n",
    "import numpy as np\n",
    "import matplotlib.pyplot as plt\n",
    "from torchvision import transforms\n",
    "import time\n",
    "from tqdm import tqdm\n",
    "#from models import * #model and dataset\n",
    "from train import *\n",
    "\n",
    "if torch.cuda.is_available():  \n",
    "    torch.cuda.empty_cache()\n",
    "    device = \"cuda:0\" \n",
    "else:  \n",
    "    device = \"cpu\" \n",
    "    \n",
    "print(torch.__version__)\n",
    "print(torchvision.__version__)"
   ]
  },
  {
   "cell_type": "code",
   "execution_count": 2,
   "id": "b61a80cf",
   "metadata": {},
   "outputs": [
    {
     "name": "stdout",
     "output_type": "stream",
     "text": [
      "torch.Size([1, 1, 256, 256])\n",
      "cuda:0\n"
     ]
    }
   ],
   "source": [
    "model = Double_UNet()\n",
    "n = torch.rand(1,3,256,256)\n",
    "print(model(n).shape)\n",
    "print(device)"
   ]
  },
  {
   "cell_type": "code",
   "execution_count": 4,
   "id": "3a49fb48",
   "metadata": {},
   "outputs": [
    {
     "name": "stderr",
     "output_type": "stream",
     "text": [
      "100%|████████████████████████████████████████████████████████████████████████████████| 500/500 [07:07<00:00,  1.17it/s]\n"
     ]
    },
    {
     "name": "stdout",
     "output_type": "stream",
     "text": [
      "epoch 1:\n",
      "train: 0.6531 tr_loss: 0.69863 tr_IOU:0.25664 tr_Dice:0.40845\n",
      "valid: 0.66294 vl_loss: 0.67142 vl_IOU:0.27021 vl_Dice:0.42545\n"
     ]
    }
   ],
   "source": [
    "imgpath = 'Kvasir-SEG/images'\n",
    "maskpath = 'Kvasir-SEG/masks'\n",
    "\n",
    "imgpathv = imgpath#'Result/valid_images'\n",
    "maskpathv = maskpath#'Result/valid_masks'\n",
    "\n",
    "savepath='./Result/'\n",
    "\n",
    "load=False\n",
    "\n",
    "if load:\n",
    "    model = torch.load('model.pt').to(device)\n",
    "    '''\n",
    "    trainloss = #load from txt\n",
    "    validloss = #load from txt\n",
    "    best_IOU = #load from txt\n",
    "    cur_epoch = #load from txt\n",
    "    #optimizer\n",
    "    '''\n",
    "else:\n",
    "    model=UNet().to(device)\n",
    "    trainloss=[]\n",
    "    validloss=[]\n",
    "    best_IOU=0\n",
    "    cur_epoch=0\n",
    "    batch = 2\n",
    "trainset = Images(imgpath,maskpath)\n",
    "train_loader=DataLoader(trainset,batch,shuffle=True)\n",
    "\n",
    "validset = Images(imgpathv,maskpathv)\n",
    "valid_loader = DataLoader(validset,batch,shuffle=True)\n",
    "\n",
    "optimizer = optim.SGD(model.parameters(), lr=1e-3)\n",
    "loss_function = DiceLoss()\n",
    "#loss_function = nn.BCELoss()\n",
    "epoch=1\n",
    "start = time.time()\n",
    "\n",
    "for i in range(cur_epoch,epoch):\n",
    "    train_accuracy,train_loss,train_IOU,train_dice=train(model,train_loader,loss_function,optimizer,device,len(trainset),batch)\n",
    "    trainloss.append(train_loss)\n",
    "    #torch.save(model,'model/model.pt')\n",
    "    \n",
    "    valid_accuracy, valid_loss,valid_IOU, valid_dice=valid(model,valid_loader,loss_function,device,len(validset),batch)\n",
    "    validloss.append(valid_loss)\n",
    "    \n",
    "    #save best model\n",
    "    if valid_IOU > best_IOU:\n",
    "        #torch.save(model,savepath+'best.pt')\n",
    "        save_report('UNet','BCE',epoch,train_accuracy,train_IOU,train_dice,train_loss.item(),valid_accuracy,valid_IOU,valid_dice,valid_loss.item())\n",
    "        best_IOU=valid_IOU\n",
    "    print('epoch '+str(i+1)+':')\n",
    "    print('train: '+str(round(train_accuracy,5))+' tr_loss:',str(round(train_loss.item(),5))\n",
    "          +' tr_IOU:'+str(round(train_IOU,5))+' tr_Dice:'+str(round(train_dice,5)))\n",
    "    print('valid: '+str(round(valid_accuracy,5))+' vl_loss:',str(round(valid_loss.item(),5))\n",
    "         +' vl_IOU:'+str(round(valid_IOU,5))+' vl_Dice:'+str(round(valid_dice,5)))\n",
    "    plt.plot(trainloss,label='train')\n",
    "    plt.plot(validloss,label='valid')\n",
    "    plt.legend()\n",
    "    #plt.legend([\"train\"],label='tr')\n",
    "    #plt.legend([\"valid\"],label='vl')\n",
    "    #plt.savefig('loss.png')\n",
    "    plt.close()\n"
   ]
  },
  {
   "cell_type": "code",
   "execution_count": 2,
   "id": "d911db40",
   "metadata": {},
   "outputs": [
    {
     "name": "stderr",
     "output_type": "stream",
     "text": [
      "100%|██████████| 100/100 [00:15<00:00,  6.58it/s]\n",
      "100%|██████████| 100/100 [00:11<00:00,  8.48it/s]\n",
      "100%|██████████| 100/100 [00:14<00:00,  6.80it/s]\n"
     ]
    }
   ],
   "source": [
    "mp='Result/model'\n",
    "save_path = './Result/'\n",
    "models = os.listdir(mp)\n",
    "for model in models:\n",
    "    npt = model[:-3]\n",
    "    if not os.path.exists(save_path+npt):\n",
    "        os.mkdir(save_path+npt)\n",
    "    save_mask(os.path.join(mp,model),'Result/valid_images',save_path+npt)\n",
    "    encode = os.listdir(save_path+npt)\n",
    "    for img in encode:\n",
    "        fn = os.path.join(save_path+npt,img)#filename\n",
    "        nfn = fn[:-4]+'_'+npt+'.jpg'\n",
    "        os.rename(fn,nfn)"
   ]
  },
  {
   "cell_type": "code",
   "execution_count": null,
   "id": "3573cb36",
   "metadata": {},
   "outputs": [],
   "source": [
    "encode = os.listdir('Result2/valid_masks/')\n",
    "for img in encode:\n",
    "    fn = os.path.join('Result2/valid_masks/', img)#filename\n",
    "    nfn = fn[:-4]+'_'+'a.jpg'\n",
    "    os.rename(fn,nfn)"
   ]
  }
 ],
 "metadata": {
  "kernelspec": {
   "display_name": "Python 3",
   "language": "python",
   "name": "python3"
  },
  "language_info": {
   "codemirror_mode": {
    "name": "ipython",
    "version": 3
   },
   "file_extension": ".py",
   "mimetype": "text/x-python",
   "name": "python",
   "nbconvert_exporter": "python",
   "pygments_lexer": "ipython3",
   "version": "3.6.15"
  },
  "vscode": {
   "interpreter": {
    "hash": "0c1d00f1deebafa4020426303d3236d37f1ce6995f6f73fb533f2afa5d46529d"
   }
  }
 },
 "nbformat": 4,
 "nbformat_minor": 5
}
