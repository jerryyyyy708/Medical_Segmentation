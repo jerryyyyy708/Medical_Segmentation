{
 "cells": [
  {
   "cell_type": "code",
   "execution_count": 1,
   "id": "fd77a183",
   "metadata": {},
   "outputs": [
    {
     "name": "stderr",
     "output_type": "stream",
     "text": [
      "c:\\Users\\jerry\\anaconda3\\envs\\PyTorch\\lib\\site-packages\\tqdm\\auto.py:22: TqdmWarning: IProgress not found. Please update jupyter and ipywidgets. See https://ipywidgets.readthedocs.io/en/stable/user_install.html\n",
      "  from .autonotebook import tqdm as notebook_tqdm\n"
     ]
    },
    {
     "name": "stdout",
     "output_type": "stream",
     "text": [
      "1.10.2\n"
     ]
    }
   ],
   "source": [
    "import torch\n",
    "import torch.nn as nn\n",
    "import torch.optim as optim\n",
    "from torch.utils.data.dataloader import DataLoader\n",
    "from torchvision.datasets import ImageFolder\n",
    "from torchvision.transforms import ToTensor\n",
    "import torchvision\n",
    "import os\n",
    "import numpy as np\n",
    "import matplotlib.pyplot as plt\n",
    "from torchvision import transforms\n",
    "import time\n",
    "from tqdm import tqdm\n",
    "from sklearn.metrics import confusion_matrix\n",
    "#from models import * #model and dataset\n",
    "from train import *\n",
    "\n",
    "if torch.cuda.is_available():  \n",
    "    torch.cuda.empty_cache()\n",
    "    device = \"cuda:0\" \n",
    "else:  \n",
    "    device = \"cpu\" \n",
    "    \n",
    "print(torch.__version__)"
   ]
  },
  {
   "cell_type": "code",
   "execution_count": 2,
   "id": "42188ade",
   "metadata": {},
   "outputs": [
    {
     "name": "stderr",
     "output_type": "stream",
     "text": [
      "100%|██████████| 13/13 [00:05<00:00,  2.27it/s]\n",
      "100%|██████████| 4/4 [00:00<00:00, 26.49it/s]\n"
     ]
    },
    {
     "name": "stdout",
     "output_type": "stream",
     "text": [
      "epoch 1 train acurracy: 0.47572815533980584 test accuracy: 0.6153846153846154\n",
      "[[ 0 10]\n",
      " [ 0 16]]\n"
     ]
    },
    {
     "name": "stderr",
     "output_type": "stream",
     "text": [
      "100%|██████████| 13/13 [00:02<00:00,  6.44it/s]\n",
      "100%|██████████| 4/4 [00:00<00:00, 27.21it/s]\n"
     ]
    },
    {
     "name": "stdout",
     "output_type": "stream",
     "text": [
      "epoch 2 train acurracy: 0.5242718446601942 test accuracy: 0.38461538461538464\n",
      "[[ 9  1]\n",
      " [15  1]]\n"
     ]
    },
    {
     "name": "stderr",
     "output_type": "stream",
     "text": [
      "100%|██████████| 13/13 [00:01<00:00,  6.74it/s]\n",
      "100%|██████████| 4/4 [00:00<00:00, 26.85it/s]\n"
     ]
    },
    {
     "name": "stdout",
     "output_type": "stream",
     "text": [
      "epoch 3 train acurracy: 0.5728155339805825 test accuracy: 0.3076923076923077\n",
      "[[ 5  5]\n",
      " [13  3]]\n"
     ]
    },
    {
     "name": "stderr",
     "output_type": "stream",
     "text": [
      "100%|██████████| 13/13 [00:01<00:00,  6.74it/s]\n",
      "100%|██████████| 4/4 [00:00<00:00, 27.78it/s]\n"
     ]
    },
    {
     "name": "stdout",
     "output_type": "stream",
     "text": [
      "epoch 4 train acurracy: 0.6019417475728155 test accuracy: 0.5769230769230769\n",
      "[[ 4  6]\n",
      " [ 5 11]]\n"
     ]
    },
    {
     "name": "stderr",
     "output_type": "stream",
     "text": [
      "100%|██████████| 13/13 [00:01<00:00,  6.80it/s]\n",
      "100%|██████████| 4/4 [00:00<00:00, 27.78it/s]\n"
     ]
    },
    {
     "name": "stdout",
     "output_type": "stream",
     "text": [
      "epoch 5 train acurracy: 0.6019417475728155 test accuracy: 0.5\n",
      "[[4 6]\n",
      " [7 9]]\n"
     ]
    },
    {
     "name": "stderr",
     "output_type": "stream",
     "text": [
      "100%|██████████| 13/13 [00:01<00:00,  6.71it/s]\n",
      "100%|██████████| 4/4 [00:00<00:00, 25.32it/s]\n"
     ]
    },
    {
     "name": "stdout",
     "output_type": "stream",
     "text": [
      "epoch 6 train acurracy: 0.6310679611650486 test accuracy: 0.5384615384615384\n",
      "[[5 5]\n",
      " [7 9]]\n"
     ]
    },
    {
     "name": "stderr",
     "output_type": "stream",
     "text": [
      "100%|██████████| 13/13 [00:01<00:00,  6.87it/s]\n",
      "100%|██████████| 4/4 [00:00<00:00, 26.50it/s]\n"
     ]
    },
    {
     "name": "stdout",
     "output_type": "stream",
     "text": [
      "epoch 7 train acurracy: 0.6699029126213593 test accuracy: 0.5384615384615384\n",
      "[[5 5]\n",
      " [7 9]]\n"
     ]
    },
    {
     "name": "stderr",
     "output_type": "stream",
     "text": [
      "100%|██████████| 13/13 [00:01<00:00,  6.75it/s]\n",
      "100%|██████████| 4/4 [00:00<00:00, 27.40it/s]\n"
     ]
    },
    {
     "name": "stdout",
     "output_type": "stream",
     "text": [
      "epoch 8 train acurracy: 0.6893203883495146 test accuracy: 0.46153846153846156\n",
      "[[5 5]\n",
      " [9 7]]\n"
     ]
    },
    {
     "name": "stderr",
     "output_type": "stream",
     "text": [
      "100%|██████████| 13/13 [00:01<00:00,  6.74it/s]\n",
      "100%|██████████| 4/4 [00:00<00:00, 26.49it/s]\n"
     ]
    },
    {
     "name": "stdout",
     "output_type": "stream",
     "text": [
      "epoch 9 train acurracy: 0.6796116504854369 test accuracy: 0.5\n",
      "[[5 5]\n",
      " [8 8]]\n"
     ]
    },
    {
     "name": "stderr",
     "output_type": "stream",
     "text": [
      "100%|██████████| 13/13 [00:01<00:00,  6.83it/s]\n",
      "100%|██████████| 4/4 [00:00<00:00, 28.17it/s]\n"
     ]
    },
    {
     "name": "stdout",
     "output_type": "stream",
     "text": [
      "epoch 10 train acurracy: 0.7864077669902912 test accuracy: 0.5769230769230769\n",
      "[[6 4]\n",
      " [7 9]]\n"
     ]
    },
    {
     "name": "stderr",
     "output_type": "stream",
     "text": [
      "100%|██████████| 13/13 [00:01<00:00,  6.66it/s]\n",
      "100%|██████████| 4/4 [00:00<00:00, 27.03it/s]\n"
     ]
    },
    {
     "name": "stdout",
     "output_type": "stream",
     "text": [
      "epoch 11 train acurracy: 0.7475728155339806 test accuracy: 0.5769230769230769\n",
      "[[6 4]\n",
      " [7 9]]\n"
     ]
    },
    {
     "name": "stderr",
     "output_type": "stream",
     "text": [
      "100%|██████████| 13/13 [00:01<00:00,  6.77it/s]\n",
      "100%|██████████| 4/4 [00:00<00:00, 27.03it/s]\n"
     ]
    },
    {
     "name": "stdout",
     "output_type": "stream",
     "text": [
      "epoch 12 train acurracy: 0.7378640776699029 test accuracy: 0.6153846153846154\n",
      "[[ 6  4]\n",
      " [ 6 10]]\n"
     ]
    },
    {
     "name": "stderr",
     "output_type": "stream",
     "text": [
      "100%|██████████| 13/13 [00:01<00:00,  6.73it/s]\n",
      "100%|██████████| 4/4 [00:00<00:00, 27.58it/s]\n"
     ]
    },
    {
     "name": "stdout",
     "output_type": "stream",
     "text": [
      "epoch 13 train acurracy: 0.7572815533980582 test accuracy: 0.6538461538461539\n",
      "[[ 6  4]\n",
      " [ 5 11]]\n"
     ]
    },
    {
     "name": "stderr",
     "output_type": "stream",
     "text": [
      "100%|██████████| 13/13 [00:01<00:00,  7.00it/s]\n",
      "100%|██████████| 4/4 [00:00<00:00, 26.77it/s]\n"
     ]
    },
    {
     "name": "stdout",
     "output_type": "stream",
     "text": [
      "epoch 14 train acurracy: 0.8349514563106796 test accuracy: 0.6153846153846154\n",
      "[[ 6  4]\n",
      " [ 6 10]]\n"
     ]
    },
    {
     "name": "stderr",
     "output_type": "stream",
     "text": [
      "100%|██████████| 13/13 [00:01<00:00,  6.68it/s]\n",
      "100%|██████████| 4/4 [00:00<00:00, 26.14it/s]\n"
     ]
    },
    {
     "name": "stdout",
     "output_type": "stream",
     "text": [
      "epoch 15 train acurracy: 0.8252427184466019 test accuracy: 0.6538461538461539\n",
      "[[ 6  4]\n",
      " [ 5 11]]\n"
     ]
    }
   ],
   "source": [
    "torch.manual_seed(16)\n",
    "imgpath = 'Cropped_All'\n",
    "\n",
    "dataset = Polyp_or_Not(imgpath)\n",
    "batch = 8\n",
    "\n",
    "sz = len(dataset)\n",
    "trlen = int(len(dataset)*0.8)\n",
    "vllen = sz - trlen\n",
    "trainset, validset = torch.utils.data.random_split(dataset,[trlen,vllen])\n",
    "\n",
    "train_loader=DataLoader(trainset,batch,shuffle=True)\n",
    "valid_loader = DataLoader(validset,batch,shuffle=True)\n",
    "\n",
    "model = encoder(n_classes = 2).to(device)\n",
    "epochs = 15\n",
    "\n",
    "optimizer = optim.Adadelta(model.parameters(), lr=0.0001)\n",
    "loss_function = nn.CrossEntropyLoss()\n",
    "\n",
    "for epoch in range(epochs):\n",
    "    tg = []\n",
    "    pd = []\n",
    "    train_accuracy=0.0\n",
    "    test_accuracy=0.0\n",
    "    model.train()\n",
    "    for data, target in tqdm(train_loader):\n",
    "        data,target=data.to(device),target.to(device)\n",
    "        optimizer.zero_grad()\n",
    "        output=model(data.float())\n",
    "        loss=loss_function(output,target)\n",
    "        loss.backward()\n",
    "        optimizer.step()\n",
    "        _,prediction=torch.max(output.data,1)\n",
    "        train_accuracy+=int(torch.sum(prediction==target.data))\n",
    "    train_accuracy=train_accuracy/trlen \n",
    "    model.eval()\n",
    "    \n",
    "    with torch.no_grad():\n",
    "        for data, target in tqdm(valid_loader):\n",
    "            data,target=data.to(device),target.to(device)\n",
    "            output=model(data.float())\n",
    "            _,prediction=torch.max(output.data,1)\n",
    "            test_accuracy+=int(torch.sum(prediction==target.data))\n",
    "            for k in prediction:\n",
    "                pd.append(k.item())\n",
    "            for l in target.data:\n",
    "                tg.append(l.item())\n",
    "    torch.save(model,'encoder.pt')\n",
    "    test_accuracy=test_accuracy/vllen\n",
    "    print('epoch '+str(epoch+1)+' train acurracy: '+str(train_accuracy)+' test accuracy: '+str(test_accuracy))\n",
    "    print(confusion_matrix(tg,pd))"
   ]
  },
  {
   "cell_type": "code",
   "execution_count": 3,
   "id": "daaaa925",
   "metadata": {},
   "outputs": [
    {
     "name": "stdout",
     "output_type": "stream",
     "text": [
      "tensor([[-0.1407,  0.3019],\n",
      "        [ 0.1097,  0.3179]], device='cuda:0') tensor([1, 1], device='cuda:0')\n"
     ]
    }
   ],
   "source": [
    "print(output,target)"
   ]
  }
 ],
 "metadata": {
  "kernelspec": {
   "display_name": "Python 3.6.15 ('PyTorch')",
   "language": "python",
   "name": "python3"
  },
  "language_info": {
   "codemirror_mode": {
    "name": "ipython",
    "version": 3
   },
   "file_extension": ".py",
   "mimetype": "text/x-python",
   "name": "python",
   "nbconvert_exporter": "python",
   "pygments_lexer": "ipython3",
   "version": "3.6.15"
  },
  "vscode": {
   "interpreter": {
    "hash": "c1019cbcb5fd3e3584abc1baf5be46caf015c35459855632244a5fc484a6ed7e"
   }
  }
 },
 "nbformat": 4,
 "nbformat_minor": 5
}
