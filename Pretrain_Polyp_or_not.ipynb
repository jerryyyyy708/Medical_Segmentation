{
 "cells": [
  {
   "cell_type": "code",
   "execution_count": 1,
   "id": "fd77a183",
   "metadata": {},
   "outputs": [
    {
     "name": "stderr",
     "output_type": "stream",
     "text": [
      "c:\\Users\\jerry\\anaconda3\\envs\\PyTorch\\lib\\site-packages\\tqdm\\auto.py:22: TqdmWarning: IProgress not found. Please update jupyter and ipywidgets. See https://ipywidgets.readthedocs.io/en/stable/user_install.html\n",
      "  from .autonotebook import tqdm as notebook_tqdm\n"
     ]
    },
    {
     "name": "stdout",
     "output_type": "stream",
     "text": [
      "1.10.2\n"
     ]
    }
   ],
   "source": [
    "import torch\n",
    "import torch.nn as nn\n",
    "import torch.optim as optim\n",
    "from torch.utils.data.dataloader import DataLoader\n",
    "from torchvision.datasets import ImageFolder\n",
    "from torchvision.transforms import ToTensor\n",
    "import torchvision\n",
    "import os\n",
    "import numpy as np\n",
    "import matplotlib.pyplot as plt\n",
    "from torchvision import transforms\n",
    "import time\n",
    "from tqdm import tqdm\n",
    "from sklearn.metrics import confusion_matrix\n",
    "#from models import * #model and dataset\n",
    "from train import *\n",
    "\n",
    "if torch.cuda.is_available():  \n",
    "    torch.cuda.empty_cache()\n",
    "    device = \"cuda:0\" \n",
    "else:  \n",
    "    device = \"cpu\" \n",
    "    \n",
    "print(torch.__version__)"
   ]
  },
  {
   "cell_type": "code",
   "execution_count": 2,
   "id": "42188ade",
   "metadata": {},
   "outputs": [
    {
     "name": "stderr",
     "output_type": "stream",
     "text": [
      "100%|██████████| 13/13 [00:09<00:00,  1.43it/s]\n",
      "100%|██████████| 4/4 [00:00<00:00, 17.78it/s]\n"
     ]
    },
    {
     "name": "stdout",
     "output_type": "stream",
     "text": [
      "epoch 1 train acurracy: 0.5145631067961165 test accuracy: 0.5\n",
      "[[6 7]\n",
      " [6 7]]\n"
     ]
    },
    {
     "name": "stderr",
     "output_type": "stream",
     "text": [
      "100%|██████████| 13/13 [00:05<00:00,  2.49it/s]\n",
      "100%|██████████| 4/4 [00:00<00:00, 17.86it/s]\n"
     ]
    },
    {
     "name": "stdout",
     "output_type": "stream",
     "text": [
      "epoch 2 train acurracy: 0.49514563106796117 test accuracy: 0.46153846153846156\n",
      "[[5 8]\n",
      " [6 7]]\n"
     ]
    },
    {
     "name": "stderr",
     "output_type": "stream",
     "text": [
      "100%|██████████| 13/13 [00:05<00:00,  2.49it/s]\n",
      "100%|██████████| 4/4 [00:00<00:00, 16.67it/s]\n"
     ]
    },
    {
     "name": "stdout",
     "output_type": "stream",
     "text": [
      "epoch 3 train acurracy: 0.5728155339805825 test accuracy: 0.5\n",
      "[[7 6]\n",
      " [7 6]]\n"
     ]
    },
    {
     "name": "stderr",
     "output_type": "stream",
     "text": [
      "100%|██████████| 13/13 [00:05<00:00,  2.43it/s]\n",
      "100%|██████████| 4/4 [00:00<00:00, 17.17it/s]\n"
     ]
    },
    {
     "name": "stdout",
     "output_type": "stream",
     "text": [
      "epoch 4 train acurracy: 0.5728155339805825 test accuracy: 0.5769230769230769\n",
      "[[6 7]\n",
      " [4 9]]\n"
     ]
    },
    {
     "name": "stderr",
     "output_type": "stream",
     "text": [
      "100%|██████████| 13/13 [00:05<00:00,  2.46it/s]\n",
      "100%|██████████| 4/4 [00:00<00:00, 17.70it/s]\n"
     ]
    },
    {
     "name": "stdout",
     "output_type": "stream",
     "text": [
      "epoch 5 train acurracy: 0.5631067961165048 test accuracy: 0.5\n",
      "[[6 7]\n",
      " [6 7]]\n"
     ]
    },
    {
     "name": "stderr",
     "output_type": "stream",
     "text": [
      "100%|██████████| 13/13 [00:05<00:00,  2.45it/s]\n",
      "100%|██████████| 4/4 [00:00<00:00, 16.33it/s]\n"
     ]
    },
    {
     "name": "stdout",
     "output_type": "stream",
     "text": [
      "epoch 6 train acurracy: 0.6116504854368932 test accuracy: 0.5\n",
      "[[6 7]\n",
      " [6 7]]\n"
     ]
    },
    {
     "name": "stderr",
     "output_type": "stream",
     "text": [
      "100%|██████████| 13/13 [00:05<00:00,  2.46it/s]\n",
      "100%|██████████| 4/4 [00:00<00:00, 17.78it/s]\n"
     ]
    },
    {
     "name": "stdout",
     "output_type": "stream",
     "text": [
      "epoch 7 train acurracy: 0.5825242718446602 test accuracy: 0.46153846153846156\n",
      "[[4 9]\n",
      " [5 8]]\n"
     ]
    },
    {
     "name": "stderr",
     "output_type": "stream",
     "text": [
      "100%|██████████| 13/13 [00:05<00:00,  2.46it/s]\n",
      "100%|██████████| 4/4 [00:00<00:00, 17.80it/s]\n"
     ]
    },
    {
     "name": "stdout",
     "output_type": "stream",
     "text": [
      "epoch 8 train acurracy: 0.6601941747572816 test accuracy: 0.46153846153846156\n",
      "[[4 9]\n",
      " [5 8]]\n"
     ]
    },
    {
     "name": "stderr",
     "output_type": "stream",
     "text": [
      "100%|██████████| 13/13 [00:05<00:00,  2.46it/s]\n",
      "100%|██████████| 4/4 [00:00<00:00, 17.47it/s]\n"
     ]
    },
    {
     "name": "stdout",
     "output_type": "stream",
     "text": [
      "epoch 9 train acurracy: 0.6699029126213593 test accuracy: 0.5769230769230769\n",
      "[[7 6]\n",
      " [5 8]]\n"
     ]
    },
    {
     "name": "stderr",
     "output_type": "stream",
     "text": [
      "100%|██████████| 13/13 [00:05<00:00,  2.42it/s]\n",
      "100%|██████████| 4/4 [00:00<00:00, 17.96it/s]\n"
     ]
    },
    {
     "name": "stdout",
     "output_type": "stream",
     "text": [
      "epoch 10 train acurracy: 0.7184466019417476 test accuracy: 0.5769230769230769\n",
      "[[7 6]\n",
      " [5 8]]\n"
     ]
    },
    {
     "name": "stderr",
     "output_type": "stream",
     "text": [
      "100%|██████████| 13/13 [00:05<00:00,  2.43it/s]\n",
      "100%|██████████| 4/4 [00:00<00:00, 17.70it/s]\n"
     ]
    },
    {
     "name": "stdout",
     "output_type": "stream",
     "text": [
      "epoch 11 train acurracy: 0.6990291262135923 test accuracy: 0.5769230769230769\n",
      "[[7 6]\n",
      " [5 8]]\n"
     ]
    },
    {
     "name": "stderr",
     "output_type": "stream",
     "text": [
      "100%|██████████| 13/13 [00:05<00:00,  2.45it/s]\n",
      "100%|██████████| 4/4 [00:00<00:00, 17.94it/s]\n"
     ]
    },
    {
     "name": "stdout",
     "output_type": "stream",
     "text": [
      "epoch 12 train acurracy: 0.6796116504854369 test accuracy: 0.5384615384615384\n",
      "[[5 8]\n",
      " [4 9]]\n"
     ]
    },
    {
     "name": "stderr",
     "output_type": "stream",
     "text": [
      "100%|██████████| 13/13 [00:05<00:00,  2.43it/s]\n",
      "100%|██████████| 4/4 [00:00<00:00, 17.78it/s]\n"
     ]
    },
    {
     "name": "stdout",
     "output_type": "stream",
     "text": [
      "epoch 13 train acurracy: 0.7572815533980582 test accuracy: 0.5769230769230769\n",
      "[[8 5]\n",
      " [6 7]]\n"
     ]
    },
    {
     "name": "stderr",
     "output_type": "stream",
     "text": [
      "100%|██████████| 13/13 [00:05<00:00,  2.45it/s]\n",
      "100%|██████████| 4/4 [00:00<00:00, 17.94it/s]\n"
     ]
    },
    {
     "name": "stdout",
     "output_type": "stream",
     "text": [
      "epoch 14 train acurracy: 0.8155339805825242 test accuracy: 0.5384615384615384\n",
      "[[6 7]\n",
      " [5 8]]\n"
     ]
    },
    {
     "name": "stderr",
     "output_type": "stream",
     "text": [
      "100%|██████████| 13/13 [00:05<00:00,  2.48it/s]\n",
      "100%|██████████| 4/4 [00:00<00:00, 17.54it/s]\n"
     ]
    },
    {
     "name": "stdout",
     "output_type": "stream",
     "text": [
      "epoch 15 train acurracy: 0.7378640776699029 test accuracy: 0.5384615384615384\n",
      "[[6 7]\n",
      " [5 8]]\n"
     ]
    },
    {
     "name": "stderr",
     "output_type": "stream",
     "text": [
      "100%|██████████| 13/13 [00:05<00:00,  2.41it/s]\n",
      "100%|██████████| 4/4 [00:00<00:00, 16.95it/s]\n"
     ]
    },
    {
     "name": "stdout",
     "output_type": "stream",
     "text": [
      "epoch 16 train acurracy: 0.7961165048543689 test accuracy: 0.5384615384615384\n",
      "[[6 7]\n",
      " [5 8]]\n"
     ]
    },
    {
     "name": "stderr",
     "output_type": "stream",
     "text": [
      "100%|██████████| 13/13 [00:05<00:00,  2.42it/s]\n",
      "100%|██████████| 4/4 [00:00<00:00, 16.95it/s]\n"
     ]
    },
    {
     "name": "stdout",
     "output_type": "stream",
     "text": [
      "epoch 17 train acurracy: 0.8349514563106796 test accuracy: 0.5384615384615384\n",
      "[[6 7]\n",
      " [5 8]]\n"
     ]
    },
    {
     "name": "stderr",
     "output_type": "stream",
     "text": [
      "100%|██████████| 13/13 [00:05<00:00,  2.46it/s]\n",
      "100%|██████████| 4/4 [00:00<00:00, 17.02it/s]\n"
     ]
    },
    {
     "name": "stdout",
     "output_type": "stream",
     "text": [
      "epoch 18 train acurracy: 0.7378640776699029 test accuracy: 0.5\n",
      "[[6 7]\n",
      " [6 7]]\n"
     ]
    },
    {
     "name": "stderr",
     "output_type": "stream",
     "text": [
      "100%|██████████| 13/13 [00:05<00:00,  2.49it/s]\n",
      "100%|██████████| 4/4 [00:00<00:00, 18.03it/s]\n"
     ]
    },
    {
     "name": "stdout",
     "output_type": "stream",
     "text": [
      "epoch 19 train acurracy: 0.8058252427184466 test accuracy: 0.5384615384615384\n",
      "[[6 7]\n",
      " [5 8]]\n"
     ]
    },
    {
     "name": "stderr",
     "output_type": "stream",
     "text": [
      "100%|██████████| 13/13 [00:05<00:00,  2.46it/s]\n",
      "100%|██████████| 4/4 [00:00<00:00, 16.81it/s]\n"
     ]
    },
    {
     "name": "stdout",
     "output_type": "stream",
     "text": [
      "epoch 20 train acurracy: 0.8932038834951457 test accuracy: 0.5769230769230769\n",
      "[[6 7]\n",
      " [4 9]]\n"
     ]
    },
    {
     "name": "stderr",
     "output_type": "stream",
     "text": [
      "100%|██████████| 13/13 [00:05<00:00,  2.48it/s]\n",
      "100%|██████████| 4/4 [00:00<00:00, 17.78it/s]\n"
     ]
    },
    {
     "name": "stdout",
     "output_type": "stream",
     "text": [
      "epoch 21 train acurracy: 0.8543689320388349 test accuracy: 0.5384615384615384\n",
      "[[7 6]\n",
      " [6 7]]\n"
     ]
    },
    {
     "name": "stderr",
     "output_type": "stream",
     "text": [
      "100%|██████████| 13/13 [00:05<00:00,  2.43it/s]\n",
      "100%|██████████| 4/4 [00:00<00:00, 17.62it/s]\n"
     ]
    },
    {
     "name": "stdout",
     "output_type": "stream",
     "text": [
      "epoch 22 train acurracy: 0.8543689320388349 test accuracy: 0.5769230769230769\n",
      "[[7 6]\n",
      " [5 8]]\n"
     ]
    },
    {
     "name": "stderr",
     "output_type": "stream",
     "text": [
      "100%|██████████| 13/13 [00:05<00:00,  2.40it/s]\n",
      "100%|██████████| 4/4 [00:00<00:00, 16.48it/s]\n"
     ]
    },
    {
     "name": "stdout",
     "output_type": "stream",
     "text": [
      "epoch 23 train acurracy: 0.8737864077669902 test accuracy: 0.6153846153846154\n",
      "[[7 6]\n",
      " [4 9]]\n"
     ]
    },
    {
     "name": "stderr",
     "output_type": "stream",
     "text": [
      "100%|██████████| 13/13 [00:05<00:00,  2.48it/s]\n",
      "100%|██████████| 4/4 [00:00<00:00, 17.32it/s]\n"
     ]
    },
    {
     "name": "stdout",
     "output_type": "stream",
     "text": [
      "epoch 24 train acurracy: 0.9223300970873787 test accuracy: 0.6153846153846154\n",
      "[[7 6]\n",
      " [4 9]]\n"
     ]
    },
    {
     "name": "stderr",
     "output_type": "stream",
     "text": [
      "100%|██████████| 13/13 [00:05<00:00,  2.45it/s]\n",
      "100%|██████████| 4/4 [00:00<00:00, 17.47it/s]\n"
     ]
    },
    {
     "name": "stdout",
     "output_type": "stream",
     "text": [
      "epoch 25 train acurracy: 0.9029126213592233 test accuracy: 0.5384615384615384\n",
      "[[7 6]\n",
      " [6 7]]\n"
     ]
    }
   ],
   "source": [
    "torch.manual_seed(186)\n",
    "imgpath = 'Cropped_All'\n",
    "\n",
    "dataset = Polyp_or_Not(imgpath)\n",
    "batch = 8\n",
    "\n",
    "sz = len(dataset)\n",
    "trlen = int(len(dataset)*0.8)\n",
    "vllen = sz - trlen\n",
    "trainset, validset = torch.utils.data.random_split(dataset,[trlen,vllen])\n",
    "\n",
    "train_loader=DataLoader(trainset,batch,shuffle=True)\n",
    "valid_loader = DataLoader(validset,batch,shuffle=True)\n",
    "\n",
    "model = VGG().to(device)\n",
    "epochs = 25\n",
    "\n",
    "optimizer = optim.Adadelta(model.parameters(), lr=0.001)\n",
    "loss_function = nn.CrossEntropyLoss()\n",
    "\n",
    "for epoch in range(epochs):\n",
    "    tg = []\n",
    "    pd = []\n",
    "    train_accuracy=0.0\n",
    "    test_accuracy=0.0\n",
    "    model.train()\n",
    "    for data, target in tqdm(train_loader):\n",
    "        data,target=data.to(device),target.to(device)\n",
    "        optimizer.zero_grad()\n",
    "        output=model(data.float())\n",
    "        loss=loss_function(output,target)\n",
    "        loss.backward()\n",
    "        optimizer.step()\n",
    "        _,prediction=torch.max(output.data,1)\n",
    "        train_accuracy+=int(torch.sum(prediction==target.data))\n",
    "    train_accuracy=train_accuracy/trlen \n",
    "    model.eval()\n",
    "    \n",
    "    with torch.no_grad():\n",
    "        for data, target in tqdm(valid_loader):\n",
    "            data,target=data.to(device),target.to(device)\n",
    "            output=model(data.float())\n",
    "            _,prediction=torch.max(output.data,1)\n",
    "            test_accuracy+=int(torch.sum(prediction==target.data))\n",
    "            for k in prediction:\n",
    "                pd.append(k.item())\n",
    "            for l in target.data:\n",
    "                tg.append(l.item())\n",
    "    torch.save(model,'VGG.pt')\n",
    "    test_accuracy=test_accuracy/vllen\n",
    "    print('epoch '+str(epoch+1)+' train acurracy: '+str(train_accuracy)+' test accuracy: '+str(test_accuracy))\n",
    "    print(confusion_matrix(tg,pd))"
   ]
  },
  {
   "cell_type": "code",
   "execution_count": 3,
   "id": "daaaa925",
   "metadata": {},
   "outputs": [
    {
     "name": "stdout",
     "output_type": "stream",
     "text": [
      "tensor([[-0.2439,  0.0033],\n",
      "        [ 0.2530, -1.3514]], device='cuda:0') tensor([0, 0], device='cuda:0')\n"
     ]
    }
   ],
   "source": [
    "print(output,target)"
   ]
  }
 ],
 "metadata": {
  "kernelspec": {
   "display_name": "Python 3.6.15 ('PyTorch')",
   "language": "python",
   "name": "python3"
  },
  "language_info": {
   "codemirror_mode": {
    "name": "ipython",
    "version": 3
   },
   "file_extension": ".py",
   "mimetype": "text/x-python",
   "name": "python",
   "nbconvert_exporter": "python",
   "pygments_lexer": "ipython3",
   "version": "3.6.15"
  },
  "vscode": {
   "interpreter": {
    "hash": "c1019cbcb5fd3e3584abc1baf5be46caf015c35459855632244a5fc484a6ed7e"
   }
  }
 },
 "nbformat": 4,
 "nbformat_minor": 5
}
