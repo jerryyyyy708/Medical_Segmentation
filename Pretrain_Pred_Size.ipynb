{
 "cells": [
  {
   "cell_type": "code",
   "execution_count": 1,
   "id": "fd77a183",
   "metadata": {},
   "outputs": [
    {
     "name": "stdout",
     "output_type": "stream",
     "text": [
      "1.8.1+cu101\n"
     ]
    }
   ],
   "source": [
    "import torch\n",
    "import torch.nn as nn\n",
    "import torch.optim as optim\n",
    "from torch.utils.data.dataloader import DataLoader\n",
    "from torchvision.datasets import ImageFolder\n",
    "from torchvision.transforms import ToTensor\n",
    "import torchvision\n",
    "import os\n",
    "import numpy as np\n",
    "import matplotlib.pyplot as plt\n",
    "from torchvision import transforms\n",
    "import time\n",
    "from tqdm import tqdm\n",
    "from sklearn.metrics import confusion_matrix\n",
    "#from models import * #model and dataset\n",
    "from train import *\n",
    "\n",
    "if torch.cuda.is_available():  \n",
    "    torch.cuda.empty_cache()\n",
    "    device = \"cuda:0\" \n",
    "else:  \n",
    "    device = \"cpu\" \n",
    "    \n",
    "print(torch.__version__)"
   ]
  },
  {
   "cell_type": "code",
   "execution_count": null,
   "id": "42188ade",
   "metadata": {},
   "outputs": [
    {
     "name": "stderr",
     "output_type": "stream",
     "text": [
      "100%|██████████| 90/90 [00:52<00:00,  1.72it/s]\n",
      "100%|██████████| 23/23 [00:05<00:00,  4.30it/s]\n"
     ]
    },
    {
     "name": "stdout",
     "output_type": "stream",
     "text": [
      "epoch 1 train acurracy: 0.35 test accuracy: 0.35555555555555557\n",
      "[[25  3 26]\n",
      " [28  6 32]\n",
      " [22  5 33]]\n"
     ]
    },
    {
     "name": "stderr",
     "output_type": "stream",
     "text": [
      "100%|██████████| 90/90 [00:51<00:00,  1.74it/s]\n",
      "100%|██████████| 23/23 [00:07<00:00,  3.14it/s]\n"
     ]
    },
    {
     "name": "stdout",
     "output_type": "stream",
     "text": [
      "epoch 2 train acurracy: 0.6652777777777777 test accuracy: 0.37222222222222223\n",
      "[[28  3 23]\n",
      " [26  7 33]\n",
      " [23  5 32]]\n"
     ]
    },
    {
     "name": "stderr",
     "output_type": "stream",
     "text": [
      "100%|██████████| 90/90 [00:46<00:00,  1.95it/s]\n",
      "100%|██████████| 23/23 [00:05<00:00,  4.25it/s]\n"
     ]
    },
    {
     "name": "stdout",
     "output_type": "stream",
     "text": [
      "epoch 3 train acurracy: 0.8430555555555556 test accuracy: 0.37777777777777777\n",
      "[[28 12 14]\n",
      " [27 15 24]\n",
      " [22 13 25]]\n"
     ]
    },
    {
     "name": "stderr",
     "output_type": "stream",
     "text": [
      "100%|██████████| 90/90 [00:50<00:00,  1.80it/s]\n",
      "100%|██████████| 23/23 [00:07<00:00,  3.09it/s]\n"
     ]
    },
    {
     "name": "stdout",
     "output_type": "stream",
     "text": [
      "epoch 4 train acurracy: 0.9430555555555555 test accuracy: 0.4166666666666667\n",
      "[[35 14  5]\n",
      " [31 24 11]\n",
      " [27 17 16]]\n"
     ]
    },
    {
     "name": "stderr",
     "output_type": "stream",
     "text": [
      "100%|██████████| 90/90 [00:59<00:00,  1.51it/s]\n",
      "100%|██████████| 23/23 [00:05<00:00,  4.35it/s]\n"
     ]
    },
    {
     "name": "stdout",
     "output_type": "stream",
     "text": [
      "epoch 5 train acurracy: 0.9777777777777777 test accuracy: 0.38333333333333336\n",
      "[[35  6 13]\n",
      " [33 11 22]\n",
      " [25 12 23]]\n"
     ]
    },
    {
     "name": "stderr",
     "output_type": "stream",
     "text": [
      "100%|██████████| 90/90 [00:48<00:00,  1.87it/s]\n",
      "100%|██████████| 23/23 [00:06<00:00,  3.38it/s]\n"
     ]
    },
    {
     "name": "stdout",
     "output_type": "stream",
     "text": [
      "epoch 6 train acurracy: 0.9916666666666667 test accuracy: 0.4\n",
      "[[17 31  6]\n",
      " [13 39 14]\n",
      " [ 8 36 16]]\n"
     ]
    },
    {
     "name": "stderr",
     "output_type": "stream",
     "text": [
      "100%|██████████| 90/90 [00:49<00:00,  1.80it/s]\n",
      "100%|██████████| 23/23 [00:06<00:00,  3.48it/s]\n"
     ]
    },
    {
     "name": "stdout",
     "output_type": "stream",
     "text": [
      "epoch 7 train acurracy: 0.9972222222222222 test accuracy: 0.4\n",
      "[[31 15  8]\n",
      " [28 22 16]\n",
      " [20 21 19]]\n"
     ]
    },
    {
     "name": "stderr",
     "output_type": "stream",
     "text": [
      "100%|██████████| 90/90 [00:49<00:00,  1.80it/s]\n",
      "100%|██████████| 23/23 [00:06<00:00,  3.44it/s]\n"
     ]
    },
    {
     "name": "stdout",
     "output_type": "stream",
     "text": [
      "epoch 8 train acurracy: 1.0 test accuracy: 0.45555555555555555\n",
      "[[29 12 13]\n",
      " [21 19 26]\n",
      " [11 15 34]]\n"
     ]
    },
    {
     "name": "stderr",
     "output_type": "stream",
     "text": [
      "100%|██████████| 90/90 [00:49<00:00,  1.80it/s]\n",
      "100%|██████████| 23/23 [00:07<00:00,  3.11it/s]\n"
     ]
    },
    {
     "name": "stdout",
     "output_type": "stream",
     "text": [
      "epoch 9 train acurracy: 1.0 test accuracy: 0.43333333333333335\n",
      "[[32 10 12]\n",
      " [26 16 24]\n",
      " [17 13 30]]\n"
     ]
    },
    {
     "name": "stderr",
     "output_type": "stream",
     "text": [
      " 23%|██▎       | 21/90 [00:12<00:41,  1.66it/s]"
     ]
    }
   ],
   "source": [
    "torch.manual_seed(16)\n",
    "imgpath = 'Dataset/train_images'\n",
    "maskpath = 'Dataset/train_masks'\n",
    "dataset = Polyp(imgpath,maskpath)\n",
    "batch = 8\n",
    "\n",
    "sz = len(dataset)\n",
    "trlen = int(len(dataset)*0.8)\n",
    "vllen = sz - trlen\n",
    "trainset, validset = torch.utils.data.random_split(dataset,[trlen,vllen])\n",
    "\n",
    "train_loader=DataLoader(trainset,batch,shuffle=True)\n",
    "valid_loader = DataLoader(validset,batch,shuffle=True)\n",
    "\n",
    "model = encoder().to(device)\n",
    "epochs = 15\n",
    "\n",
    "optimizer = optim.Adadelta(model.parameters(), lr=0.001)\n",
    "loss_function = nn.CrossEntropyLoss()\n",
    "\n",
    "for epoch in range(epochs):\n",
    "    tg = []\n",
    "    pd = []\n",
    "    train_accuracy=0.0\n",
    "    test_accuracy=0.0\n",
    "    model.train()\n",
    "    for data, target in tqdm(train_loader):\n",
    "        data,target=data.to(device),target.to(device)\n",
    "        optimizer.zero_grad()\n",
    "        output=model(data.float())\n",
    "        loss=loss_function(output,target)\n",
    "        loss.backward()\n",
    "        optimizer.step()\n",
    "        _,prediction=torch.max(output.data,1)\n",
    "        train_accuracy+=int(torch.sum(prediction==target.data))\n",
    "    train_accuracy=train_accuracy/trlen \n",
    "    model.eval()\n",
    "    \n",
    "    with torch.no_grad():\n",
    "        for data, target in tqdm(valid_loader):\n",
    "            data,target=data.to(device),target.to(device)\n",
    "            output=model(data.float())\n",
    "            _,prediction=torch.max(output.data,1)\n",
    "            test_accuracy+=int(torch.sum(prediction==target.data))\n",
    "            for k in prediction:\n",
    "                pd.append(k.item())\n",
    "            for l in target.data:\n",
    "                tg.append(l.item())\n",
    "    torch.save(model,'encoder.pt')\n",
    "    test_accuracy=test_accuracy/vllen\n",
    "    print('epoch '+str(epoch+1)+' train acurracy: '+str(train_accuracy)+' test accuracy: '+str(test_accuracy))\n",
    "    print(confusion_matrix(tg,pd))"
   ]
  },
  {
   "cell_type": "code",
   "execution_count": null,
   "id": "daaaa925",
   "metadata": {},
   "outputs": [],
   "source": [
    "print(output,target)"
   ]
  }
 ],
 "metadata": {
  "kernelspec": {
   "display_name": "Python 3",
   "language": "python",
   "name": "python3"
  },
  "language_info": {
   "codemirror_mode": {
    "name": "ipython",
    "version": 3
   },
   "file_extension": ".py",
   "mimetype": "text/x-python",
   "name": "python",
   "nbconvert_exporter": "python",
   "pygments_lexer": "ipython3",
   "version": "3.6.9"
  }
 },
 "nbformat": 4,
 "nbformat_minor": 5
}
